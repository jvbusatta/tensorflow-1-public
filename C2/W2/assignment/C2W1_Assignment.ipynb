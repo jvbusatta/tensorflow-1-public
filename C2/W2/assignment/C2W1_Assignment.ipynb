{
  "cells": [
    {
      "cell_type": "markdown",
      "id": "fc59dbb8",
      "metadata": {
        "id": "fc59dbb8"
      },
      "source": [
        "# Week 1: Using CNN's with the Cats vs Dogs Dataset\n",
        "\n",
        "Welcome to the 1st assignment of the course! This week, you will be using the famous `Cats vs Dogs` dataset to train a model that can classify images of dogs from images of cats. For this, you will create your own Convolutional Neural Network in Tensorflow and leverage Keras' image preprocessing utilities.\n",
        "\n",
        "You will also create some helper functions to move the images around the filesystem so if you are not familiar with the `os` module be sure to take a look a the [docs](https://docs.python.org/3/library/os.html).\n",
        "\n",
        "Let's get started!"
      ]
    },
    {
      "cell_type": "markdown",
      "id": "84dcabb6",
      "metadata": {
        "id": "84dcabb6"
      },
      "source": [
        "_**NOTE:** To prevent errors from the autograder, pleave avoid editing or deleting non-graded cells in this notebook . Please only put your solutions in between the `### START CODE HERE` and `### END CODE HERE` code comments, and refrain from adding any new cells._"
      ]
    },
    {
      "cell_type": "code",
      "execution_count": 3,
      "id": "b0179aa5",
      "metadata": {
        "id": "b0179aa5",
        "tags": [
          "graded"
        ]
      },
      "outputs": [],
      "source": [
        "# grader-required-cell\n",
        "\n",
        "import os\n",
        "import zipfile\n",
        "import random\n",
        "import shutil\n",
        "import tensorflow as tf\n",
        "from tensorflow.keras.optimizers import RMSprop\n",
        "from tensorflow.keras.preprocessing.image import ImageDataGenerator\n",
        "from shutil import copyfile\n",
        "import matplotlib.pyplot as plt"
      ]
    },
    {
      "cell_type": "markdown",
      "id": "ffcd9e7e",
      "metadata": {
        "id": "ffcd9e7e"
      },
      "source": [
        "Download the dataset from its original source by running the cell below. \n",
        "\n",
        "Note that the `zip` file that contains the images is unzipped under the `/tmp` directory."
      ]
    },
    {
      "cell_type": "code",
      "execution_count": 4,
      "id": "c881d8ff",
      "metadata": {
        "id": "c881d8ff",
        "lines_to_next_cell": 2,
        "tags": [],
        "colab": {
          "base_uri": "https://localhost:8080/"
        },
        "outputId": "1ed2bae6-6f6e-4314-f41e-2fc62cf7624d"
      },
      "outputs": [
        {
          "output_type": "stream",
          "name": "stdout",
          "text": [
            "--2023-05-18 22:04:50--  https://download.microsoft.com/download/3/E/1/3E1C3F21-ECDB-4869-8368-6DEBA77B919F/kagglecatsanddogs_5340.zip\n",
            "Resolving download.microsoft.com (download.microsoft.com)... 96.16.56.93, 2a02:26f0:c900:284::317f, 2a02:26f0:c900:289::317f\n",
            "Connecting to download.microsoft.com (download.microsoft.com)|96.16.56.93|:443... connected.\n",
            "HTTP request sent, awaiting response... 200 OK\n",
            "Length: 824887076 (787M) [application/octet-stream]\n",
            "Saving to: ‘/tmp/cats-and-dogs.zip’\n",
            "\n",
            "/tmp/cats-and-dogs. 100%[===================>] 786.67M  44.7MB/s    in 6.2s    \n",
            "\n",
            "2023-05-18 22:04:56 (127 MB/s) - ‘/tmp/cats-and-dogs.zip’ saved [824887076/824887076]\n",
            "\n"
          ]
        }
      ],
      "source": [
        "# If the URL doesn't work, visit https://www.microsoft.com/en-us/download/confirmation.aspx?id=54765\n",
        "# And right click on the 'Download Manually' link to get a new URL to the dataset\n",
        "\n",
        "# Note: This is a very large dataset and will take some time to download\n",
        "\n",
        "!wget --no-check-certificate \\\n",
        "    \"https://download.microsoft.com/download/3/E/1/3E1C3F21-ECDB-4869-8368-6DEBA77B919F/kagglecatsanddogs_5340.zip\" \\\n",
        "    -O \"/tmp/cats-and-dogs.zip\"\n",
        "\n",
        "local_zip = '/tmp/cats-and-dogs.zip'\n",
        "zip_ref   = zipfile.ZipFile(local_zip, 'r')\n",
        "zip_ref.extractall('/tmp')\n",
        "zip_ref.close()"
      ]
    },
    {
      "cell_type": "markdown",
      "id": "e3094745",
      "metadata": {
        "id": "e3094745"
      },
      "source": [
        "Now the images are stored within the `/tmp/PetImages` directory. There is a subdirectory for each class, so one for dogs and one for cats."
      ]
    },
    {
      "cell_type": "code",
      "execution_count": 5,
      "id": "bc3a9fa5",
      "metadata": {
        "id": "bc3a9fa5",
        "tags": [
          "graded"
        ],
        "colab": {
          "base_uri": "https://localhost:8080/"
        },
        "outputId": "74a32e6d-bad0-4442-c5bb-97dfd57622bf"
      },
      "outputs": [
        {
          "output_type": "stream",
          "name": "stdout",
          "text": [
            "There are 12500 images of dogs.\n",
            "There are 12500 images of cats.\n"
          ]
        }
      ],
      "source": [
        "# grader-required-cell\n",
        "\n",
        "source_path = '/tmp/PetImages'\n",
        "\n",
        "source_path_dogs = os.path.join(source_path, 'Dog')\n",
        "source_path_cats = os.path.join(source_path, 'Cat')\n",
        "\n",
        "# Deletes all non-image files (there are two .db files bundled into the dataset)\n",
        "!find /tmp/PetImages/ -type f ! -name \"*.jpg\" -exec rm {} +\n",
        "\n",
        "# os.listdir returns a list containing all files under the given path\n",
        "print(f\"There are {len(os.listdir(source_path_dogs))} images of dogs.\")\n",
        "print(f\"There are {len(os.listdir(source_path_cats))} images of cats.\")"
      ]
    },
    {
      "cell_type": "markdown",
      "id": "f98b9905",
      "metadata": {
        "id": "f98b9905"
      },
      "source": [
        "**Expected Output:**\n",
        "\n",
        "```\n",
        "There are 12500 images of dogs.\n",
        "There are 12500 images of cats.\n",
        "```"
      ]
    },
    {
      "cell_type": "markdown",
      "id": "7e7e2d79",
      "metadata": {
        "id": "7e7e2d79"
      },
      "source": [
        "You will need a directory for cats-v-dogs, and subdirectories for training\n",
        "and validation. These in turn will need subdirectories for 'cats' and 'dogs'. To accomplish this, complete the `create_train_val_dirs` below:"
      ]
    },
    {
      "cell_type": "code",
      "execution_count": 6,
      "id": "52ef5808",
      "metadata": {
        "cellView": "code",
        "id": "52ef5808",
        "tags": [
          "graded"
        ]
      },
      "outputs": [],
      "source": [
        "# grader-required-cell\n",
        "\n",
        "# Define root directory\n",
        "root_dir = '/tmp/cats-v-dogs'\n",
        "\n",
        "# Empty directory to prevent FileExistsError is the function is run several times\n",
        "if os.path.exists(root_dir):\n",
        "  shutil.rmtree(root_dir)\n",
        "\n",
        "# GRADED FUNCTION: create_train_val_dirs\n",
        "def create_train_val_dirs(root_path):\n",
        "  \"\"\"\n",
        "  Creates directories for the train and test sets\n",
        "  \n",
        "  Args:\n",
        "    root_path (string) - the base directory path to create subdirectories from\n",
        "  \n",
        "  Returns:\n",
        "    None\n",
        "  \"\"\"\n",
        "  ### START CODE HERE\n",
        "\n",
        "  # HINT:\n",
        "  # Use os.makedirs to create your directories with intermediate subdirectories\n",
        "  # Don't hardcode the paths. Use os.path.join to append the new directories to the root_path parameter\n",
        "try:\n",
        "    #YOUR CODE GOES HERE\n",
        "    os.mkdir(\"/tmp/cats-v-dogs\")\n",
        "    os.mkdir(\"/tmp/cats-v-dogs/training\")\n",
        "    os.mkdir(\"/tmp/cats-v-dogs/validation\")\n",
        "    os.mkdir(\"/tmp/cats-v-dogs/training/cats\")\n",
        "    os.mkdir(\"/tmp/cats-v-dogs/training/dogs\")\n",
        "    os.mkdir(\"/tmp/cats-v-dogs/validation/cats\")\n",
        "    os.mkdir(\"/tmp/cats-v-dogs/validation/dogs\")\n",
        "except OSError:\n",
        "    pass\n",
        "  \n",
        "  \n",
        "\n",
        "  ### END CODE HERE\n",
        "\n",
        "  \n",
        "try:\n",
        "  create_train_val_dirs(root_path=root_dir)\n",
        "except FileExistsError:\n",
        "  print(\"You should not be seeing this since the upper directory is removed beforehand\")"
      ]
    },
    {
      "cell_type": "code",
      "execution_count": 7,
      "id": "5c43b630",
      "metadata": {
        "id": "5c43b630",
        "tags": [
          "graded"
        ],
        "colab": {
          "base_uri": "https://localhost:8080/"
        },
        "outputId": "fdc346ca-ffd0-4afd-b623-b08840a7071e"
      },
      "outputs": [
        {
          "output_type": "stream",
          "name": "stdout",
          "text": [
            "/tmp/cats-v-dogs/training\n",
            "/tmp/cats-v-dogs/validation\n",
            "/tmp/cats-v-dogs/training/cats\n",
            "/tmp/cats-v-dogs/training/dogs\n",
            "/tmp/cats-v-dogs/validation/cats\n",
            "/tmp/cats-v-dogs/validation/dogs\n"
          ]
        }
      ],
      "source": [
        "# grader-required-cell\n",
        "\n",
        "# Test your create_train_val_dirs function\n",
        "\n",
        "for rootdir, dirs, files in os.walk(root_dir):\n",
        "    for subdir in dirs:\n",
        "        print(os.path.join(rootdir, subdir))"
      ]
    },
    {
      "cell_type": "markdown",
      "id": "e2009a58",
      "metadata": {
        "id": "e2009a58"
      },
      "source": [
        "**Expected Output (directory order might vary):**\n",
        "\n",
        "``` txt\n",
        "/tmp/cats-v-dogs/training\n",
        "/tmp/cats-v-dogs/validation\n",
        "/tmp/cats-v-dogs/training/cats\n",
        "/tmp/cats-v-dogs/training/dogs\n",
        "/tmp/cats-v-dogs/validation/cats\n",
        "/tmp/cats-v-dogs/validation/dogs\n",
        "\n",
        "```"
      ]
    },
    {
      "cell_type": "markdown",
      "id": "3f296af6",
      "metadata": {
        "id": "3f296af6"
      },
      "source": [
        "Code the `split_data` function which takes in the following arguments:\n",
        "- SOURCE_DIR: directory containing the files\n",
        "\n",
        "- TRAINING_DIR: directory that a portion of the files will be copied to (will be used for training)\n",
        "- VALIDATION_DIR: directory that a portion of the files will be copied to (will be used for validation)\n",
        "- SPLIT_SIZE: determines the portion of images used for training.\n",
        "\n",
        "The files should be randomized, so that the training set is a random sample of the files, and the validation set is made up of the remaining files.\n",
        "\n",
        "For example, if `SOURCE_DIR` is `PetImages/Cat`, and `SPLIT_SIZE` is .9 then 90% of the images in `PetImages/Cat` will be copied to the `TRAINING_DIR` directory\n",
        "and 10% of the images will be copied to the `VALIDATION_DIR` directory.\n",
        "\n",
        "All images should be checked before the copy, so if they have a zero file length, they will be omitted from the copying process. If this is the case then your function should print out a message such as `\"filename is zero length, so ignoring.\"`. **You should perform this check before the split so that only non-zero images are considered when doing the actual split.**\n",
        "\n",
        "\n",
        "Hints:\n",
        "\n",
        "- `os.listdir(DIRECTORY)` returns a list with the contents of that directory.\n",
        "\n",
        "- `os.path.getsize(PATH)` returns the size of the file\n",
        "\n",
        "- `copyfile(source, destination)` copies a file from source to destination\n",
        "\n",
        "- `random.sample(list, len(list))` shuffles a list"
      ]
    },
    {
      "cell_type": "code",
      "execution_count": 8,
      "id": "51d821b1",
      "metadata": {
        "cellView": "code",
        "id": "51d821b1",
        "tags": [
          "graded"
        ]
      },
      "outputs": [],
      "source": [
        "# grader-required-cell\n",
        "\n",
        "# GRADED FUNCTION: split_data\n",
        "def split_data(SOURCE_DIR, TRAINING_DIR, VALIDATION_DIR, SPLIT_SIZE):\n",
        "  \"\"\"\n",
        "  Splits the data into train and test sets\n",
        "  \n",
        "  Args:\n",
        "    SOURCE_DIR (string): directory path containing the images\n",
        "    TRAINING_DIR (string): directory path to be used for training\n",
        "    VALIDATION_DIR (string): directory path to be used for validation\n",
        "    SPLIT_SIZE (float): proportion of the dataset to be used for training\n",
        "    \n",
        "  Returns:\n",
        "    None\n",
        "  \"\"\"\n",
        "\n",
        "  ### START CODE HERE\n",
        "  files = []\n",
        "  for filename in os.listdir(SOURCE_DIR):\n",
        "      file_name = os.path.join(SOURCE_DIR, filename)\n",
        "      if os.path.getsize(file_name) > 0:\n",
        "          files.append(filename)\n",
        "      else:\n",
        "          print(\"{} has zero length so discarding\".format(filename))\n",
        "  train_set_size = int(len(files)*SPLIT_SIZE)\n",
        "  shuffled_data = random.sample(files, len(files))\n",
        "  training_data = shuffled_data[0:train_set_size]\n",
        "  testing_data = shuffled_data[train_set_size:len(files)]\n",
        "\n",
        "  for file in training_data:\n",
        "      src_file = os.path.join(SOURCE_DIR, file)\n",
        "      des_file = os.path.join(TRAINING_DIR, file)\n",
        "      copyfile(src_file, des_file)\n",
        "\n",
        "  for file in testing_data:\n",
        "      src_file = os.path.join(SOURCE_DIR, file)\n",
        "      des_file = os.path.join(VALIDATION_DIR, file)\n",
        "      copyfile(src_file, des_file)      \n",
        "  pass\n",
        "\n",
        "  ### END CODE HERE"
      ]
    },
    {
      "cell_type": "code",
      "execution_count": 10,
      "id": "e5a316b6",
      "metadata": {
        "id": "e5a316b6",
        "tags": [
          "graded"
        ],
        "colab": {
          "base_uri": "https://localhost:8080/"
        },
        "outputId": "a62f2720-4142-4a91-b328-1292a0076746"
      },
      "outputs": [
        {
          "output_type": "stream",
          "name": "stdout",
          "text": [
            "666.jpg has zero length so discarding\n",
            "11702.jpg has zero length so discarding\n",
            "\n",
            "\n",
            "Original cat's directory has 12500 images\n",
            "Original dog's directory has 12500 images\n",
            "\n",
            "There are 11249 images of cats for training\n",
            "There are 11249 images of dogs for training\n",
            "There are 1250 images of cats for validation\n",
            "There are 1250 images of dogs for validation\n"
          ]
        }
      ],
      "source": [
        "# grader-required-cell\n",
        "\n",
        "# Test your split_data function\n",
        "\n",
        "# Define paths\n",
        "CAT_SOURCE_DIR = \"/tmp/PetImages/Cat/\"\n",
        "DOG_SOURCE_DIR = \"/tmp/PetImages/Dog/\"\n",
        "\n",
        "TRAINING_DIR = \"/tmp/cats-v-dogs/training/\"\n",
        "VALIDATION_DIR = \"/tmp/cats-v-dogs/validation/\"\n",
        "\n",
        "TRAINING_CATS_DIR = os.path.join(TRAINING_DIR, \"cats/\")\n",
        "VALIDATION_CATS_DIR = os.path.join(VALIDATION_DIR, \"cats/\")\n",
        "\n",
        "TRAINING_DOGS_DIR = os.path.join(TRAINING_DIR, \"dogs/\")\n",
        "VALIDATION_DOGS_DIR = os.path.join(VALIDATION_DIR, \"dogs/\")\n",
        "\n",
        "# Empty directories in case you run this cell multiple times\n",
        "if len(os.listdir(TRAINING_CATS_DIR)) > 0:\n",
        "  for file in os.scandir(TRAINING_CATS_DIR):\n",
        "    os.remove(file.path)\n",
        "if len(os.listdir(TRAINING_DOGS_DIR)) > 0:\n",
        "  for file in os.scandir(TRAINING_DOGS_DIR):\n",
        "    os.remove(file.path)\n",
        "if len(os.listdir(VALIDATION_CATS_DIR)) > 0:\n",
        "  for file in os.scandir(VALIDATION_CATS_DIR):\n",
        "    os.remove(file.path)\n",
        "if len(os.listdir(VALIDATION_DOGS_DIR)) > 0:\n",
        "  for file in os.scandir(VALIDATION_DOGS_DIR):\n",
        "    os.remove(file.path)\n",
        "\n",
        "# Define proportion of images used for training\n",
        "split_size = .9\n",
        "\n",
        "# Run the function\n",
        "# NOTE: Messages about zero length images should be printed out\n",
        "split_data(CAT_SOURCE_DIR, TRAINING_CATS_DIR, VALIDATION_CATS_DIR, split_size)\n",
        "split_data(DOG_SOURCE_DIR, TRAINING_DOGS_DIR, VALIDATION_DOGS_DIR, split_size)\n",
        "\n",
        "# Check that the number of images matches the expected output\n",
        "\n",
        "# Your function should perform copies rather than moving images so original directories should contain unchanged images\n",
        "print(f\"\\n\\nOriginal cat's directory has {len(os.listdir(CAT_SOURCE_DIR))} images\")\n",
        "print(f\"Original dog's directory has {len(os.listdir(DOG_SOURCE_DIR))} images\\n\")\n",
        "\n",
        "# Training and validation splits\n",
        "print(f\"There are {len(os.listdir(TRAINING_CATS_DIR))} images of cats for training\")\n",
        "print(f\"There are {len(os.listdir(TRAINING_DOGS_DIR))} images of dogs for training\")\n",
        "print(f\"There are {len(os.listdir(VALIDATION_CATS_DIR))} images of cats for validation\")\n",
        "print(f\"There are {len(os.listdir(VALIDATION_DOGS_DIR))} images of dogs for validation\")"
      ]
    },
    {
      "cell_type": "markdown",
      "id": "866801c2",
      "metadata": {
        "id": "866801c2"
      },
      "source": [
        "**Expected Output:**\n",
        "\n",
        "```\n",
        "666.jpg is zero length, so ignoring.\n",
        "11702.jpg is zero length, so ignoring.\n",
        "\n",
        "\n",
        "Original cat's directory has 12500 images\n",
        "Original dog's directory has 12500 images\n",
        "\n",
        "There are 11249 images of cats for training\n",
        "There are 11249 images of dogs for training\n",
        "There are 1250 images of cats for validation\n",
        "There are 1250 images of dogs for validation\n",
        "```"
      ]
    },
    {
      "cell_type": "markdown",
      "id": "0848b4d7",
      "metadata": {
        "id": "0848b4d7"
      },
      "source": [
        "Now that you have successfully organized the data in a way that can be easily fed to Keras' `ImageDataGenerator`, it is time for you to code the generators that will yield batches of images, both for training and validation. For this, complete the `train_val_generators` function below.\n",
        "\n",
        "Something important to note is that the images in this dataset come in a variety of resolutions. Luckily, the `flow_from_directory` method allows you to standarize this by defining a tuple called `target_size` that will be used to convert each image to this target resolution. **For this exercise, use a `target_size` of (150, 150)**.\n",
        "\n",
        "**Hint:** \n",
        "\n",
        "Don't use data augmentation by setting extra parameters when you instantiate the `ImageDataGenerator` class. This will make the training of your model to take longer to reach the necessary accuracy threshold to pass this assignment and this topic will be covered in the next week."
      ]
    },
    {
      "cell_type": "code",
      "execution_count": 15,
      "id": "072bb609",
      "metadata": {
        "cellView": "code",
        "id": "072bb609",
        "tags": [
          "graded"
        ]
      },
      "outputs": [],
      "source": [
        "# grader-required-cell\n",
        "\n",
        "# GRADED FUNCTION: train_val_generators\n",
        "def train_val_generators(TRAINING_DIR, VALIDATION_DIR):\n",
        "  \"\"\"\n",
        "  Creates the training and validation data generators\n",
        "  \n",
        "  Args:\n",
        "    TRAINING_DIR (string): directory path containing the training images\n",
        "    VALIDATION_DIR (string): directory path containing the testing/validation images\n",
        "    \n",
        "  Returns:\n",
        "    train_generator, validation_generator - tuple containing the generators\n",
        "  \"\"\"\n",
        "  ### START CODE HERE\n",
        "\n",
        "  # Instantiate the ImageDataGenerator class (don't forget to set the rescale argument)\n",
        "  train_datagen = ImageDataGenerator(rescale = 1/255) \n",
        "                                  #horizontal_flip = True,\n",
        "                                  #vertical_flip = True,\n",
        "                                  #height_shift_range = 0.2,\n",
        "                                  #width_shift_range = 0.2,\n",
        "                                  #rotation_range = 0.2,\n",
        "                                  #shear_range = 0.2,\n",
        "                                  #fill_mode = 'nearest'\n",
        "                                  \n",
        "\n",
        "  # Pass in the appropriate arguments to the flow_from_directory method\n",
        "  train_generator = train_datagen.flow_from_directory(directory=TRAINING_DIR,\n",
        "                                                      batch_size=100,\n",
        "                                                      class_mode=\"binary\",\n",
        "                                                      target_size=(150, 150),\n",
        "                                                      shuffle = True)\n",
        "\n",
        "  # Instantiate the ImageDataGenerator class (don't forget to set the rescale argument)\n",
        "  validation_datagen = ImageDataGenerator(rescale=1/255)\n",
        "\n",
        "  # Pass in the appropriate arguments to the flow_from_directory method\n",
        "  validation_generator = validation_datagen.flow_from_directory(directory=VALIDATION_DIR,\n",
        "                                                                batch_size=100,\n",
        "                                                                class_mode=\"binary\",\n",
        "                                                                target_size=(150, 150),\n",
        "                                                                shuffle = False)\n",
        "  ### END CODE HERE\n",
        "  return train_generator, validation_generator"
      ]
    },
    {
      "cell_type": "code",
      "execution_count": 16,
      "id": "642806f1",
      "metadata": {
        "id": "642806f1",
        "tags": [
          "graded"
        ],
        "colab": {
          "base_uri": "https://localhost:8080/"
        },
        "outputId": "0805890c-36a9-4a8e-e53e-62106c977b59"
      },
      "outputs": [
        {
          "output_type": "stream",
          "name": "stdout",
          "text": [
            "Found 22498 images belonging to 2 classes.\n",
            "Found 2500 images belonging to 2 classes.\n"
          ]
        }
      ],
      "source": [
        "# grader-required-cell\n",
        "\n",
        "# Test your generators\n",
        "train_generator, validation_generator = train_val_generators(TRAINING_DIR, VALIDATION_DIR)"
      ]
    },
    {
      "cell_type": "markdown",
      "id": "734f5056",
      "metadata": {
        "id": "734f5056"
      },
      "source": [
        "**Expected Output:**\n",
        "\n",
        "```\n",
        "Found 22498 images belonging to 2 classes.\n",
        "Found 2500 images belonging to 2 classes.\n",
        "```\n"
      ]
    },
    {
      "cell_type": "markdown",
      "id": "89098bc7",
      "metadata": {
        "id": "89098bc7"
      },
      "source": [
        "One last step before training is to define the architecture of the model that will be trained.\n",
        "\n",
        "Complete the `create_model` function below which should return a Keras' `Sequential` model.\n",
        "\n",
        "Aside from defining the architecture of the model, you should also compile it so make sure to use a `loss` function that is compatible with the `class_mode` you defined in the previous exercise, which should also be compatible with the output of your network. You can tell if they aren't compatible if you get an error during training.\n",
        "\n",
        "**Note that you should use at least 3 convolution layers to achieve the desired performance.**"
      ]
    },
    {
      "cell_type": "code",
      "execution_count": 17,
      "id": "6f375c5d",
      "metadata": {
        "cellView": "code",
        "id": "6f375c5d",
        "lines_to_next_cell": 2,
        "tags": [
          "graded"
        ]
      },
      "outputs": [],
      "source": [
        "# grader-required-cell\n",
        "\n",
        "# GRADED FUNCTION: create_model\n",
        "def create_model():\n",
        "  # DEFINE A KERAS MODEL TO CLASSIFY CATS V DOGS\n",
        "  # USE AT LEAST 3 CONVOLUTION LAYERS\n",
        "\n",
        "  ### START CODE HERE\n",
        "\n",
        "  model = tf.keras.models.Sequential([ \n",
        "      tf.keras.layers.Conv2D(32, (3,3), activation='relu', input_shape=(150, 150, 3)),\n",
        "      tf.keras.layers.MaxPooling2D(2,2),\n",
        "      tf.keras.layers.Conv2D(64, (3,3), activation= 'relu'),\n",
        "      tf.keras.layers.MaxPooling2D(2,2),\n",
        "      tf.keras.layers.Conv2D(128, (3,3), activation= 'relu'),\n",
        "      tf.keras.layers.MaxPooling2D(2,2),\n",
        "      tf.keras.layers.Flatten(),\n",
        "      tf.keras.layers.Dense(512, activation = 'relu'),\n",
        "      tf.keras.layers.Dense(1, activation = 'sigmoid')\n",
        "      ])\n",
        "\n",
        "  \n",
        "  model.compile(optimizer=RMSprop(learning_rate=0.001),\n",
        "                loss='binary_crossentropy',\n",
        "                metrics=['accuracy']) \n",
        "    \n",
        "  ### END CODE HERE\n",
        "\n",
        "  return model"
      ]
    },
    {
      "cell_type": "markdown",
      "id": "991de70d",
      "metadata": {
        "id": "991de70d"
      },
      "source": [
        "Now it is time to train your model!\n",
        "\n",
        "**Note:** You can ignore the `UserWarning: Possibly corrupt EXIF data.` warnings."
      ]
    },
    {
      "cell_type": "code",
      "execution_count": 18,
      "id": "fedfe6d0",
      "metadata": {
        "id": "fedfe6d0",
        "tags": [],
        "colab": {
          "base_uri": "https://localhost:8080/"
        },
        "outputId": "c6e03f4d-f6c4-449f-de43-0d2438238f17"
      },
      "outputs": [
        {
          "output_type": "stream",
          "name": "stdout",
          "text": [
            "Epoch 1/60\n",
            "225/225 [==============================] - 93s 404ms/step - loss: 0.6694 - accuracy: 0.6055 - val_loss: 0.6735 - val_accuracy: 0.5884\n",
            "Epoch 2/60\n",
            "225/225 [==============================] - 92s 408ms/step - loss: 0.5531 - accuracy: 0.7111 - val_loss: 0.5475 - val_accuracy: 0.7208\n",
            "Epoch 3/60\n",
            "225/225 [==============================] - 90s 400ms/step - loss: 0.4870 - accuracy: 0.7613 - val_loss: 0.4618 - val_accuracy: 0.7752\n",
            "Epoch 4/60\n",
            "225/225 [==============================] - 92s 410ms/step - loss: 0.4317 - accuracy: 0.8001 - val_loss: 0.4413 - val_accuracy: 0.7900\n",
            "Epoch 5/60\n",
            "225/225 [==============================] - 89s 398ms/step - loss: 0.3836 - accuracy: 0.8267 - val_loss: 0.5162 - val_accuracy: 0.7420\n",
            "Epoch 6/60\n",
            "225/225 [==============================] - 94s 420ms/step - loss: 0.3333 - accuracy: 0.8532 - val_loss: 0.3929 - val_accuracy: 0.8312\n",
            "Epoch 7/60\n",
            "225/225 [==============================] - 88s 393ms/step - loss: 0.2756 - accuracy: 0.8806 - val_loss: 0.5872 - val_accuracy: 0.7628\n",
            "Epoch 8/60\n",
            "225/225 [==============================] - 92s 407ms/step - loss: 0.2121 - accuracy: 0.9143 - val_loss: 0.4418 - val_accuracy: 0.8028\n",
            "Epoch 9/60\n",
            "225/225 [==============================] - 91s 402ms/step - loss: 0.1446 - accuracy: 0.9440 - val_loss: 0.4785 - val_accuracy: 0.8240\n",
            "Epoch 10/60\n",
            "225/225 [==============================] - 91s 406ms/step - loss: 0.0978 - accuracy: 0.9656 - val_loss: 0.6212 - val_accuracy: 0.8128\n",
            "Epoch 11/60\n",
            "225/225 [==============================] - 94s 417ms/step - loss: 0.0578 - accuracy: 0.9812 - val_loss: 0.7108 - val_accuracy: 0.8300\n",
            "Epoch 12/60\n",
            "225/225 [==============================] - 92s 410ms/step - loss: 0.0472 - accuracy: 0.9881 - val_loss: 0.8515 - val_accuracy: 0.8140\n",
            "Epoch 13/60\n",
            "225/225 [==============================] - 89s 394ms/step - loss: 0.0431 - accuracy: 0.9883 - val_loss: 0.8934 - val_accuracy: 0.8268\n",
            "Epoch 14/60\n",
            "225/225 [==============================] - 91s 406ms/step - loss: 0.0242 - accuracy: 0.9925 - val_loss: 0.9280 - val_accuracy: 0.8300\n",
            "Epoch 15/60\n",
            "225/225 [==============================] - 89s 398ms/step - loss: 0.0633 - accuracy: 0.9905 - val_loss: 1.0821 - val_accuracy: 0.8180\n",
            "Epoch 16/60\n",
            "225/225 [==============================] - 89s 395ms/step - loss: 0.0427 - accuracy: 0.9900 - val_loss: 1.0388 - val_accuracy: 0.8328\n",
            "Epoch 17/60\n",
            "225/225 [==============================] - 94s 418ms/step - loss: 0.0252 - accuracy: 0.9932 - val_loss: 1.0843 - val_accuracy: 0.8204\n",
            "Epoch 18/60\n",
            "225/225 [==============================] - 91s 404ms/step - loss: 0.0173 - accuracy: 0.9951 - val_loss: 1.1890 - val_accuracy: 0.8256\n",
            "Epoch 19/60\n",
            "225/225 [==============================] - 89s 396ms/step - loss: 0.0237 - accuracy: 0.9941 - val_loss: 1.1993 - val_accuracy: 0.8224\n",
            "Epoch 20/60\n",
            "225/225 [==============================] - 93s 415ms/step - loss: 0.0096 - accuracy: 0.9971 - val_loss: 1.4481 - val_accuracy: 0.8260\n",
            "Epoch 21/60\n",
            "225/225 [==============================] - 92s 409ms/step - loss: 0.0213 - accuracy: 0.9940 - val_loss: 1.1790 - val_accuracy: 0.8140\n",
            "Epoch 22/60\n",
            "225/225 [==============================] - 89s 396ms/step - loss: 0.0104 - accuracy: 0.9971 - val_loss: 1.3881 - val_accuracy: 0.8160\n",
            "Epoch 23/60\n",
            "225/225 [==============================] - 90s 402ms/step - loss: 0.0120 - accuracy: 0.9966 - val_loss: 1.3854 - val_accuracy: 0.8288\n",
            "Epoch 24/60\n",
            "225/225 [==============================] - 89s 397ms/step - loss: 0.0093 - accuracy: 0.9974 - val_loss: 1.4398 - val_accuracy: 0.8308\n",
            "Epoch 25/60\n",
            "225/225 [==============================] - 89s 396ms/step - loss: 0.0169 - accuracy: 0.9952 - val_loss: 1.6641 - val_accuracy: 0.8208\n",
            "Epoch 26/60\n",
            "225/225 [==============================] - 91s 404ms/step - loss: 0.0125 - accuracy: 0.9964 - val_loss: 1.5120 - val_accuracy: 0.8216\n",
            "Epoch 27/60\n",
            "225/225 [==============================] - 91s 403ms/step - loss: 0.0175 - accuracy: 0.9952 - val_loss: 1.6977 - val_accuracy: 0.7912\n",
            "Epoch 28/60\n",
            "225/225 [==============================] - 91s 405ms/step - loss: 0.0147 - accuracy: 0.9963 - val_loss: 1.5515 - val_accuracy: 0.8220\n",
            "Epoch 29/60\n",
            "225/225 [==============================] - 91s 405ms/step - loss: 0.0101 - accuracy: 0.9977 - val_loss: 1.5143 - val_accuracy: 0.8188\n",
            "Epoch 30/60\n",
            "225/225 [==============================] - 94s 417ms/step - loss: 0.0083 - accuracy: 0.9967 - val_loss: 1.6821 - val_accuracy: 0.8248\n",
            "Epoch 31/60\n",
            "225/225 [==============================] - 92s 408ms/step - loss: 0.0094 - accuracy: 0.9971 - val_loss: 1.9417 - val_accuracy: 0.8176\n",
            "Epoch 32/60\n",
            "225/225 [==============================] - 93s 412ms/step - loss: 0.0102 - accuracy: 0.9976 - val_loss: 1.9347 - val_accuracy: 0.8120\n",
            "Epoch 33/60\n",
            "225/225 [==============================] - 90s 400ms/step - loss: 0.0116 - accuracy: 0.9972 - val_loss: 1.6752 - val_accuracy: 0.8196\n",
            "Epoch 34/60\n",
            "225/225 [==============================] - 92s 407ms/step - loss: 0.0091 - accuracy: 0.9978 - val_loss: 1.8209 - val_accuracy: 0.8212\n",
            "Epoch 35/60\n",
            "225/225 [==============================] - 89s 395ms/step - loss: 0.0066 - accuracy: 0.9983 - val_loss: 1.7184 - val_accuracy: 0.8160\n",
            "Epoch 36/60\n",
            "225/225 [==============================] - 91s 407ms/step - loss: 0.0061 - accuracy: 0.9981 - val_loss: 2.0566 - val_accuracy: 0.8124\n",
            "Epoch 37/60\n",
            "225/225 [==============================] - 90s 401ms/step - loss: 0.0064 - accuracy: 0.9980 - val_loss: 2.2122 - val_accuracy: 0.8192\n",
            "Epoch 38/60\n",
            "225/225 [==============================] - 91s 404ms/step - loss: 0.0167 - accuracy: 0.9965 - val_loss: 2.0220 - val_accuracy: 0.8168\n",
            "Epoch 39/60\n",
            "225/225 [==============================] - 91s 404ms/step - loss: 0.0111 - accuracy: 0.9976 - val_loss: 2.2150 - val_accuracy: 0.8192\n",
            "Epoch 40/60\n",
            "225/225 [==============================] - 91s 404ms/step - loss: 0.0149 - accuracy: 0.9970 - val_loss: 2.4421 - val_accuracy: 0.8128\n",
            "Epoch 41/60\n",
            "225/225 [==============================] - 91s 402ms/step - loss: 0.0131 - accuracy: 0.9972 - val_loss: 2.2058 - val_accuracy: 0.8288\n",
            "Epoch 42/60\n",
            "225/225 [==============================] - 91s 404ms/step - loss: 0.0113 - accuracy: 0.9970 - val_loss: 2.3394 - val_accuracy: 0.8260\n",
            "Epoch 43/60\n",
            "225/225 [==============================] - 90s 400ms/step - loss: 0.0100 - accuracy: 0.9976 - val_loss: 2.4221 - val_accuracy: 0.8124\n",
            "Epoch 44/60\n",
            "225/225 [==============================] - 92s 409ms/step - loss: 0.0171 - accuracy: 0.9971 - val_loss: 2.3946 - val_accuracy: 0.8288\n",
            "Epoch 45/60\n",
            "225/225 [==============================] - 91s 406ms/step - loss: 0.0142 - accuracy: 0.9974 - val_loss: 2.6025 - val_accuracy: 0.8148\n",
            "Epoch 46/60\n",
            "225/225 [==============================] - 92s 409ms/step - loss: 0.0167 - accuracy: 0.9970 - val_loss: 2.8717 - val_accuracy: 0.8108\n",
            "Epoch 47/60\n",
            "225/225 [==============================] - 92s 409ms/step - loss: 0.0118 - accuracy: 0.9970 - val_loss: 2.7880 - val_accuracy: 0.8168\n",
            "Epoch 48/60\n",
            "225/225 [==============================] - 95s 422ms/step - loss: 0.0120 - accuracy: 0.9974 - val_loss: 2.6027 - val_accuracy: 0.8116\n",
            "Epoch 49/60\n",
            "225/225 [==============================] - 94s 416ms/step - loss: 0.0101 - accuracy: 0.9980 - val_loss: 2.4409 - val_accuracy: 0.8208\n",
            "Epoch 50/60\n",
            "225/225 [==============================] - 91s 404ms/step - loss: 0.0123 - accuracy: 0.9974 - val_loss: 2.6493 - val_accuracy: 0.8268\n",
            "Epoch 51/60\n",
            "225/225 [==============================] - 95s 422ms/step - loss: 0.0115 - accuracy: 0.9976 - val_loss: 2.7969 - val_accuracy: 0.8196\n",
            "Epoch 52/60\n",
            "225/225 [==============================] - 93s 412ms/step - loss: 0.0102 - accuracy: 0.9977 - val_loss: 3.0605 - val_accuracy: 0.8184\n",
            "Epoch 53/60\n",
            "225/225 [==============================] - 92s 409ms/step - loss: 0.0110 - accuracy: 0.9975 - val_loss: 2.7348 - val_accuracy: 0.8180\n",
            "Epoch 54/60\n",
            "225/225 [==============================] - 92s 410ms/step - loss: 0.0104 - accuracy: 0.9976 - val_loss: 3.2520 - val_accuracy: 0.7988\n",
            "Epoch 55/60\n",
            "225/225 [==============================] - 92s 409ms/step - loss: 0.0111 - accuracy: 0.9976 - val_loss: 2.7745 - val_accuracy: 0.8224\n",
            "Epoch 56/60\n",
            "225/225 [==============================] - 95s 421ms/step - loss: 0.0082 - accuracy: 0.9985 - val_loss: 3.0600 - val_accuracy: 0.8068\n",
            "Epoch 57/60\n",
            "225/225 [==============================] - 94s 416ms/step - loss: 0.0112 - accuracy: 0.9977 - val_loss: 3.0182 - val_accuracy: 0.8108\n",
            "Epoch 58/60\n",
            "225/225 [==============================] - 91s 405ms/step - loss: 0.0086 - accuracy: 0.9982 - val_loss: 3.3499 - val_accuracy: 0.8000\n",
            "Epoch 59/60\n",
            "225/225 [==============================] - 93s 413ms/step - loss: 0.0131 - accuracy: 0.9971 - val_loss: 3.2197 - val_accuracy: 0.8140\n",
            "Epoch 60/60\n",
            "225/225 [==============================] - 92s 407ms/step - loss: 0.0037 - accuracy: 0.9988 - val_loss: 3.1376 - val_accuracy: 0.8172\n"
          ]
        }
      ],
      "source": [
        "# Get the untrained model\n",
        "model = create_model()\n",
        "\n",
        "# Train the model\n",
        "# Note that this may take some time.\n",
        "history = model.fit(train_generator,\n",
        "                    epochs=60,\n",
        "                    verbose=1,\n",
        "                    validation_data=validation_generator)"
      ]
    },
    {
      "cell_type": "markdown",
      "id": "9a08d2ee",
      "metadata": {
        "id": "9a08d2ee"
      },
      "source": [
        "Once training has finished, you can run the following cell to check the training and validation accuracy achieved at the end of each epoch.\n",
        "\n",
        "**To pass this assignment, your model should achieve a training accuracy of at least 95% and a validation accuracy of at least 80%**. If your model didn't achieve these thresholds, try training again with a different model architecture and remember to use at least 3 convolutional layers."
      ]
    },
    {
      "cell_type": "code",
      "execution_count": 19,
      "id": "70658d4d",
      "metadata": {
        "id": "70658d4d",
        "tags": [],
        "colab": {
          "base_uri": "https://localhost:8080/",
          "height": 882
        },
        "outputId": "747bc842-410c-410a-df18-37cfe7cf1833"
      },
      "outputs": [
        {
          "output_type": "display_data",
          "data": {
            "text/plain": [
              "<Figure size 640x480 with 1 Axes>"
            ],
            "image/png": "[encoded data removed]"
          },
          "metadata": {}
        },
        {
          "output_type": "stream",
          "name": "stdout",
          "text": [
            "\n"
          ]
        },
        {
          "output_type": "display_data",
          "data": {
            "text/plain": [
              "<Figure size 640x480 with 1 Axes>"
            ],
            "image/png": "[encoded data removed]"
          },
          "metadata": {}
        }
      ],
      "source": [
        "#-----------------------------------------------------------\n",
        "# Retrieve a list of list results on training and test data\n",
        "# sets for each training epoch\n",
        "#-----------------------------------------------------------\n",
        "acc=history.history['accuracy']\n",
        "val_acc=history.history['val_accuracy']\n",
        "loss=history.history['loss']\n",
        "val_loss=history.history['val_loss']\n",
        "\n",
        "epochs=range(len(acc)) # Get number of epochs\n",
        "\n",
        "#------------------------------------------------\n",
        "# Plot training and validation accuracy per epoch\n",
        "#------------------------------------------------\n",
        "plt.plot(epochs, acc, 'r', \"Training Accuracy\")\n",
        "plt.plot(epochs, val_acc, 'b', \"Validation Accuracy\")\n",
        "plt.title('Training and validation accuracy')\n",
        "plt.show()\n",
        "print(\"\")\n",
        "\n",
        "#------------------------------------------------\n",
        "# Plot training and validation loss per epoch\n",
        "#------------------------------------------------\n",
        "plt.plot(epochs, loss, 'r', \"Training Loss\")\n",
        "plt.plot(epochs, val_loss, 'b', \"Validation Loss\")\n",
        "plt.show()"
      ]
    },
    {
      "cell_type": "markdown",
      "id": "de6fc5c1",
      "metadata": {
        "id": "de6fc5c1"
      },
      "source": [
        "You will probably encounter that the model is overfitting, which means that it is doing a great job at classifying the images in the training set but struggles with new data. This is perfectly fine and you will learn how to mitigate this issue in the upcoming week.\n",
        "\n",
        "Before downloading this notebook and closing the assignment, be sure to also download the `history.pkl` file which contains the information of the training history of your model. You can download this file by running the cell below:"
      ]
    },
    {
      "cell_type": "code",
      "execution_count": 20,
      "id": "19911c2d",
      "metadata": {
        "id": "19911c2d",
        "tags": [],
        "colab": {
          "base_uri": "https://localhost:8080/",
          "height": 17
        },
        "outputId": "6186446f-75a9-4b13-9286-578086f12e57"
      },
      "outputs": [
        {
          "output_type": "display_data",
          "data": {
            "text/plain": [
              "<IPython.core.display.Javascript object>"
            ],
            "application/javascript": [
              "\n",
              "    async function download(id, filename, size) {\n",
              "      if (!google.colab.kernel.accessAllowed) {\n",
              "        return;\n",
              "      }\n",
              "      const div = document.createElement('div');\n",
              "      const label = document.createElement('label');\n",
              "      label.textContent = `Downloading \"${filename}\": `;\n",
              "      div.appendChild(label);\n",
              "      const progress = document.createElement('progress');\n",
              "      progress.max = size;\n",
              "      div.appendChild(progress);\n",
              "      document.body.appendChild(div);\n",
              "\n",
              "      const buffers = [];\n",
              "      let downloaded = 0;\n",
              "\n",
              "      const channel = await google.colab.kernel.comms.open(id);\n",
              "      // Send a message to notify the kernel that we're ready.\n",
              "      channel.send({})\n",
              "\n",
              "      for await (const message of channel.messages) {\n",
              "        // Send a message to notify the kernel that we're ready.\n",
              "        channel.send({})\n",
              "        if (message.buffers) {\n",
              "          for (const buffer of message.buffers) {\n",
              "            buffers.push(buffer);\n",
              "            downloaded += buffer.byteLength;\n",
              "            progress.value = downloaded;\n",
              "          }\n",
              "        }\n",
              "      }\n",
              "      const blob = new Blob(buffers, {type: 'application/binary'});\n",
              "      const a = document.createElement('a');\n",
              "      a.href = window.URL.createObjectURL(blob);\n",
              "      a.download = filename;\n",
              "      div.appendChild(a);\n",
              "      a.click();\n",
              "      div.remove();\n",
              "    }\n",
              "  "
            ]
          },
          "metadata": {}
        },
        {
          "output_type": "display_data",
          "data": {
            "text/plain": [
              "<IPython.core.display.Javascript object>"
            ],
            "application/javascript": [
              "download(\"download_76006a40-2163-4fe4-8c6f-673e179310a4\", \"history.pkl\", 2236)"
            ]
          },
          "metadata": {}
        }
      ],
      "source": [
        "def download_history():\n",
        "  import pickle\n",
        "  from google.colab import files\n",
        "\n",
        "  with open('history.pkl', 'wb') as f:\n",
        "    pickle.dump(history.history, f)\n",
        "\n",
        "  files.download('history.pkl')\n",
        "\n",
        "download_history()"
      ]
    },
    {
      "cell_type": "markdown",
      "id": "bacfa623",
      "metadata": {
        "id": "bacfa623"
      },
      "source": [
        "## Download your notebook for grading\n",
        "\n",
        "Along with the `history.pkl` file, you will also need to submit your solution notebook for grading. The following code cells will check if this notebook's grader metadata (i.e. hidden data in the notebook needed for grading) is not modified by your workspace. This will ensure that the autograder can evaluate your code properly. Depending on its output, you will either:\n",
        "\n",
        "* *if the metadata is intact*: Download the current notebook. Click on the File tab on the upper left corner of the screen then click on `Download -> Download .ipynb.` You can name it anything you want as long as it is a valid `.ipynb` (jupyter notebook) file.\n",
        "<br>\n",
        "\n",
        "* *if the metadata is missing*: A new notebook with your solutions will be created on this Colab workspace. It should be downloaded automatically and you can submit that to the grader. "
      ]
    },
    {
      "cell_type": "code",
      "execution_count": 21,
      "id": "7f1b1a67",
      "metadata": {
        "colab": {
          "base_uri": "https://localhost:8080/"
        },
        "id": "7f1b1a67",
        "outputId": "0bf9d51d-2f14-4195-b722-5860e66c63d0"
      },
      "outputs": [
        {
          "output_type": "stream",
          "name": "stdout",
          "text": [
            "--2023-05-19 00:03:36--  https://storage.googleapis.com/tensorflow-1-public/colab_metadata_checker.py\n",
            "Resolving storage.googleapis.com (storage.googleapis.com)... 142.250.153.128, 142.250.145.128, 74.125.128.128, ...\n",
            "Connecting to storage.googleapis.com (storage.googleapis.com)|142.250.153.128|:443... connected.\n",
            "HTTP request sent, awaiting response... 200 OK\n",
            "Length: 1997 (2.0K) [text/x-python-script]\n",
            "Saving to: ‘colab_metadata_checker.py’\n",
            "\n",
            "\r          colab_met   0%[                    ]       0  --.-KB/s               \rcolab_metadata_chec 100%[===================>]   1.95K  --.-KB/s    in 0s      \n",
            "\n",
            "2023-05-19 00:03:36 (32.3 MB/s) - ‘colab_metadata_checker.py’ saved [1997/1997]\n",
            "\n"
          ]
        }
      ],
      "source": [
        "# Download metadata checker\n",
        "!wget -nc https://storage.googleapis.com/tensorflow-1-public/colab_metadata_checker.py"
      ]
    },
    {
      "cell_type": "code",
      "execution_count": 22,
      "id": "b1133af4",
      "metadata": {
        "colab": {
          "base_uri": "https://localhost:8080/"
        },
        "id": "b1133af4",
        "outputId": "1e7d98c1-8027-4005-b6cf-03ceafea0f07"
      },
      "outputs": [
        {
          "output_type": "stream",
          "name": "stdout",
          "text": [
            "Grader metadata detected! You can download this notebook by clicking `File > Download > Download as .ipynb` and submit it to the grader!\n"
          ]
        }
      ],
      "source": [
        "import colab_metadata_checker\n",
        "\n",
        "# Please see the output of this cell to see which file you need to submit to the grader\n",
        "colab_metadata_checker.run('C2W1_Assignment_fixed.ipynb')"
      ]
    },
    {
      "cell_type": "markdown",
      "id": "4278bc55",
      "metadata": {
        "id": "4278bc55"
      },
      "source": [
        "**Please disregard the following note if the notebook metadata is detected**\n",
        "\n",
        "_Note: Just in case the download fails for the second point above, you can also do these steps:_\n",
        "* _Click the Folder icon on the left side of this screen to open the File Manager._\n",
        "* _Click the Folder Refresh icon in the File Manager to see the latest files in the workspace. You should see a file ending with a `_fixed.ipynb`._\n",
        "* _Right-click on that file to save locally and submit it to the grader._"
      ]
    },
    {
      "cell_type": "markdown",
      "id": "c8a5425c",
      "metadata": {
        "id": "c8a5425c"
      },
      "source": [
        "**Congratulations on finishing this week's assignment!**\n",
        "\n",
        "You have successfully implemented a convolutional neural network that classifies images of cats and dogs, along with the helper functions needed to pre-process the images!\n",
        "\n",
        "**Keep it up!**"
      ]
    }
  ],
  "metadata": {
    "accelerator": "GPU",
    "kernelspec": {
      "display_name": "Python 3",
      "language": "python",
      "name": "python3"
    },
    "language_info": {
      "codemirror_mode": {
        "name": "ipython",
        "version": 3
      },
      "file_extension": ".py",
      "mimetype": "text/x-python",
      "name": "python",
      "nbconvert_exporter": "python",
      "pygments_lexer": "ipython3",
      "version": "3.7.4"
    },
    "colab": {
      "provenance": []
    }
  },
  "nbformat": 4,
  "nbformat_minor": 5
}